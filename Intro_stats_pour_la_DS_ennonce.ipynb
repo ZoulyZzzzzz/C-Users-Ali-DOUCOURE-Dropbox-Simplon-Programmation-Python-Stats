{
 "cells": [
  {
   "cell_type": "markdown",
   "metadata": {},
   "source": [
    "### Introduction Maths pour la Data Science\n"
   ]
  },
  {
   "cell_type": "markdown",
   "metadata": {},
   "source": [
    "Ce notebook est un support de cours avec un TP intégré.\n",
    "\n",
    "Je commencerai par charger une jeu de données. Nous l'utiliserons pour illustrer des concepts de stats/maths appliquées de base.\n",
    "\n",
    "Nous utiliserons dans ce notebook la librairie, numpy, qui est celle de reference concernant le calcul scientifique (manipulation/operation vecteur matrice, outils statistiques ...) ainsi que pandas pour manipuler nos données.\n",
    "\n",
    "Et nous verrons également deux librairies de visualisation matplotlib et seaborn\n",
    "\n"
   ]
  },
  {
   "cell_type": "code",
   "execution_count": 8,
   "metadata": {},
   "outputs": [],
   "source": [
    "import numpy as np\n",
    "import pandas as pd\n",
    "import matplotlib.pyplot as plt\n",
    "from matplotlib import rc\n",
    "import seaborn as sns\n",
    "%matplotlib inline"
   ]
  },
  {
   "cell_type": "markdown",
   "metadata": {},
   "source": [
    "### Analyse de la taille \n",
    "\n",
    "Le terme régression a été introduit par Sir Francis Galton (cousin de C. Darwin) au xixe siècle, alors qu'il étudiait la taille des individus au sein d'une descendance. Il tentait de comprendre pourquoi les grands individus d'une population semblaient avoir des enfants d'une taille plus petite, plus proche de la taille moyenne de la population; d'où l'introduction du terme \"régression\" (approcher une variable à partir d’autres qui lui sont corrélées).\n",
    "\n",
    "*Le terme provient de la régression vers la moyenne observée par Sir Francis Galton : les enfants de personnes de grande taille avaient eux-mêmes une taille supérieure à celle de la population en moyenne, mais inférieure à celle de leurs parents (toujours en moyenne), sans que la dispersion de taille au sein de la population totale ne soit réduite pour autant*\n",
    "\n",
    "\n",
    "Dans la suite on va s’intéresser aux données récoltées par Galton."
   ]
  },
  {
   "cell_type": "markdown",
   "metadata": {},
   "source": [
    "#### Lire dataset sous un format de type DataFrame (galton_dataset.csv)\n",
    "\n",
    "Afficher les 5 premieres lgnes"
   ]
  },
  {
   "cell_type": "code",
   "execution_count": 9,
   "metadata": {},
   "outputs": [],
   "source": [
    "df=pd.read_csv('galton_dataset.csv',sep='\\t')"
   ]
  },
  {
   "cell_type": "code",
   "execution_count": 10,
   "metadata": {},
   "outputs": [
    {
     "data": {
      "text/html": [
       "<div>\n",
       "<style scoped>\n",
       "    .dataframe tbody tr th:only-of-type {\n",
       "        vertical-align: middle;\n",
       "    }\n",
       "\n",
       "    .dataframe tbody tr th {\n",
       "        vertical-align: top;\n",
       "    }\n",
       "\n",
       "    .dataframe thead th {\n",
       "        text-align: right;\n",
       "    }\n",
       "</style>\n",
       "<table border=\"1\" class=\"dataframe\">\n",
       "  <thead>\n",
       "    <tr style=\"text-align: right;\">\n",
       "      <th></th>\n",
       "      <th>Family</th>\n",
       "      <th>Father</th>\n",
       "      <th>Mother</th>\n",
       "      <th>Gender</th>\n",
       "      <th>Height</th>\n",
       "      <th>Kids</th>\n",
       "    </tr>\n",
       "  </thead>\n",
       "  <tbody>\n",
       "    <tr>\n",
       "      <th>0</th>\n",
       "      <td>1</td>\n",
       "      <td>78.5</td>\n",
       "      <td>67.0</td>\n",
       "      <td>M</td>\n",
       "      <td>73.2</td>\n",
       "      <td>4</td>\n",
       "    </tr>\n",
       "    <tr>\n",
       "      <th>1</th>\n",
       "      <td>1</td>\n",
       "      <td>78.5</td>\n",
       "      <td>67.0</td>\n",
       "      <td>F</td>\n",
       "      <td>69.2</td>\n",
       "      <td>4</td>\n",
       "    </tr>\n",
       "    <tr>\n",
       "      <th>2</th>\n",
       "      <td>1</td>\n",
       "      <td>78.5</td>\n",
       "      <td>67.0</td>\n",
       "      <td>F</td>\n",
       "      <td>69.0</td>\n",
       "      <td>4</td>\n",
       "    </tr>\n",
       "    <tr>\n",
       "      <th>3</th>\n",
       "      <td>1</td>\n",
       "      <td>78.5</td>\n",
       "      <td>67.0</td>\n",
       "      <td>F</td>\n",
       "      <td>69.0</td>\n",
       "      <td>4</td>\n",
       "    </tr>\n",
       "    <tr>\n",
       "      <th>4</th>\n",
       "      <td>2</td>\n",
       "      <td>75.5</td>\n",
       "      <td>66.5</td>\n",
       "      <td>M</td>\n",
       "      <td>73.5</td>\n",
       "      <td>4</td>\n",
       "    </tr>\n",
       "  </tbody>\n",
       "</table>\n",
       "</div>"
      ],
      "text/plain": [
       "  Family  Father  Mother Gender  Height  Kids\n",
       "0      1    78.5    67.0      M    73.2     4\n",
       "1      1    78.5    67.0      F    69.2     4\n",
       "2      1    78.5    67.0      F    69.0     4\n",
       "3      1    78.5    67.0      F    69.0     4\n",
       "4      2    75.5    66.5      M    73.5     4"
      ]
     },
     "execution_count": 10,
     "metadata": {},
     "output_type": "execute_result"
    }
   ],
   "source": [
    "df.head()"
   ]
  },
  {
   "cell_type": "markdown",
   "metadata": {},
   "source": [
    "#### Convertissez les colonnes ['Father', 'Mother', 'Height'] (inch) en cm et renommez la colonne \"Height\" par \"Hkids\""
   ]
  },
  {
   "cell_type": "code",
   "execution_count": 3,
   "metadata": {
    "scrolled": false
   },
   "outputs": [
    {
     "data": {
      "text/html": [
       "<div>\n",
       "<style scoped>\n",
       "    .dataframe tbody tr th:only-of-type {\n",
       "        vertical-align: middle;\n",
       "    }\n",
       "\n",
       "    .dataframe tbody tr th {\n",
       "        vertical-align: top;\n",
       "    }\n",
       "\n",
       "    .dataframe thead th {\n",
       "        text-align: right;\n",
       "    }\n",
       "</style>\n",
       "<table border=\"1\" class=\"dataframe\">\n",
       "  <thead>\n",
       "    <tr style=\"text-align: right;\">\n",
       "      <th></th>\n",
       "      <th>Family</th>\n",
       "      <th>Father</th>\n",
       "      <th>Mother</th>\n",
       "      <th>Gender</th>\n",
       "      <th>Height</th>\n",
       "      <th>Kids</th>\n",
       "    </tr>\n",
       "  </thead>\n",
       "  <tbody>\n",
       "    <tr>\n",
       "      <th>0</th>\n",
       "      <td>1</td>\n",
       "      <td>199.39</td>\n",
       "      <td>170.18</td>\n",
       "      <td>M</td>\n",
       "      <td>185.928</td>\n",
       "      <td>4</td>\n",
       "    </tr>\n",
       "    <tr>\n",
       "      <th>1</th>\n",
       "      <td>1</td>\n",
       "      <td>199.39</td>\n",
       "      <td>170.18</td>\n",
       "      <td>F</td>\n",
       "      <td>175.768</td>\n",
       "      <td>4</td>\n",
       "    </tr>\n",
       "    <tr>\n",
       "      <th>2</th>\n",
       "      <td>1</td>\n",
       "      <td>199.39</td>\n",
       "      <td>170.18</td>\n",
       "      <td>F</td>\n",
       "      <td>175.260</td>\n",
       "      <td>4</td>\n",
       "    </tr>\n",
       "    <tr>\n",
       "      <th>3</th>\n",
       "      <td>1</td>\n",
       "      <td>199.39</td>\n",
       "      <td>170.18</td>\n",
       "      <td>F</td>\n",
       "      <td>175.260</td>\n",
       "      <td>4</td>\n",
       "    </tr>\n",
       "    <tr>\n",
       "      <th>4</th>\n",
       "      <td>2</td>\n",
       "      <td>191.77</td>\n",
       "      <td>168.91</td>\n",
       "      <td>M</td>\n",
       "      <td>186.690</td>\n",
       "      <td>4</td>\n",
       "    </tr>\n",
       "    <tr>\n",
       "      <th>...</th>\n",
       "      <td>...</td>\n",
       "      <td>...</td>\n",
       "      <td>...</td>\n",
       "      <td>...</td>\n",
       "      <td>...</td>\n",
       "      <td>...</td>\n",
       "    </tr>\n",
       "    <tr>\n",
       "      <th>893</th>\n",
       "      <td>136A</td>\n",
       "      <td>173.99</td>\n",
       "      <td>165.10</td>\n",
       "      <td>M</td>\n",
       "      <td>173.990</td>\n",
       "      <td>8</td>\n",
       "    </tr>\n",
       "    <tr>\n",
       "      <th>894</th>\n",
       "      <td>136A</td>\n",
       "      <td>173.99</td>\n",
       "      <td>165.10</td>\n",
       "      <td>M</td>\n",
       "      <td>171.958</td>\n",
       "      <td>8</td>\n",
       "    </tr>\n",
       "    <tr>\n",
       "      <th>895</th>\n",
       "      <td>136A</td>\n",
       "      <td>173.99</td>\n",
       "      <td>165.10</td>\n",
       "      <td>F</td>\n",
       "      <td>162.560</td>\n",
       "      <td>8</td>\n",
       "    </tr>\n",
       "    <tr>\n",
       "      <th>896</th>\n",
       "      <td>136A</td>\n",
       "      <td>173.99</td>\n",
       "      <td>165.10</td>\n",
       "      <td>F</td>\n",
       "      <td>161.290</td>\n",
       "      <td>8</td>\n",
       "    </tr>\n",
       "    <tr>\n",
       "      <th>897</th>\n",
       "      <td>136A</td>\n",
       "      <td>173.99</td>\n",
       "      <td>165.10</td>\n",
       "      <td>F</td>\n",
       "      <td>160.020</td>\n",
       "      <td>8</td>\n",
       "    </tr>\n",
       "  </tbody>\n",
       "</table>\n",
       "<p>898 rows × 6 columns</p>\n",
       "</div>"
      ],
      "text/plain": [
       "    Family  Father  Mother Gender   Height  Kids\n",
       "0        1  199.39  170.18      M  185.928     4\n",
       "1        1  199.39  170.18      F  175.768     4\n",
       "2        1  199.39  170.18      F  175.260     4\n",
       "3        1  199.39  170.18      F  175.260     4\n",
       "4        2  191.77  168.91      M  186.690     4\n",
       "..     ...     ...     ...    ...      ...   ...\n",
       "893   136A  173.99  165.10      M  173.990     8\n",
       "894   136A  173.99  165.10      M  171.958     8\n",
       "895   136A  173.99  165.10      F  162.560     8\n",
       "896   136A  173.99  165.10      F  161.290     8\n",
       "897   136A  173.99  165.10      F  160.020     8\n",
       "\n",
       "[898 rows x 6 columns]"
      ]
     },
     "execution_count": 3,
     "metadata": {},
     "output_type": "execute_result"
    }
   ],
   "source": [
    "col = ['Father','Mother','Height']\n",
    "for elem in col:\n",
    "    df[elem]=df[elem]*2.54\n",
    "df"
   ]
  },
  {
   "cell_type": "markdown",
   "metadata": {},
   "source": [
    "#### Filtrer votre dataframe pour ne conserver que les garçons"
   ]
  },
  {
   "cell_type": "code",
   "execution_count": 4,
   "metadata": {},
   "outputs": [
    {
     "data": {
      "text/html": [
       "<div>\n",
       "<style scoped>\n",
       "    .dataframe tbody tr th:only-of-type {\n",
       "        vertical-align: middle;\n",
       "    }\n",
       "\n",
       "    .dataframe tbody tr th {\n",
       "        vertical-align: top;\n",
       "    }\n",
       "\n",
       "    .dataframe thead th {\n",
       "        text-align: right;\n",
       "    }\n",
       "</style>\n",
       "<table border=\"1\" class=\"dataframe\">\n",
       "  <thead>\n",
       "    <tr style=\"text-align: right;\">\n",
       "      <th></th>\n",
       "      <th>Family</th>\n",
       "      <th>Father</th>\n",
       "      <th>Mother</th>\n",
       "      <th>Gender</th>\n",
       "      <th>Height</th>\n",
       "      <th>Kids</th>\n",
       "    </tr>\n",
       "  </thead>\n",
       "  <tbody>\n",
       "    <tr>\n",
       "      <th>0</th>\n",
       "      <td>1</td>\n",
       "      <td>199.39</td>\n",
       "      <td>170.18</td>\n",
       "      <td>M</td>\n",
       "      <td>185.928</td>\n",
       "      <td>4</td>\n",
       "    </tr>\n",
       "    <tr>\n",
       "      <th>4</th>\n",
       "      <td>2</td>\n",
       "      <td>191.77</td>\n",
       "      <td>168.91</td>\n",
       "      <td>M</td>\n",
       "      <td>186.690</td>\n",
       "      <td>4</td>\n",
       "    </tr>\n",
       "    <tr>\n",
       "      <th>5</th>\n",
       "      <td>2</td>\n",
       "      <td>191.77</td>\n",
       "      <td>168.91</td>\n",
       "      <td>M</td>\n",
       "      <td>184.150</td>\n",
       "      <td>4</td>\n",
       "    </tr>\n",
       "    <tr>\n",
       "      <th>8</th>\n",
       "      <td>3</td>\n",
       "      <td>190.50</td>\n",
       "      <td>162.56</td>\n",
       "      <td>M</td>\n",
       "      <td>180.340</td>\n",
       "      <td>2</td>\n",
       "    </tr>\n",
       "    <tr>\n",
       "      <th>10</th>\n",
       "      <td>4</td>\n",
       "      <td>190.50</td>\n",
       "      <td>162.56</td>\n",
       "      <td>M</td>\n",
       "      <td>179.070</td>\n",
       "      <td>5</td>\n",
       "    </tr>\n",
       "    <tr>\n",
       "      <th>...</th>\n",
       "      <td>...</td>\n",
       "      <td>...</td>\n",
       "      <td>...</td>\n",
       "      <td>...</td>\n",
       "      <td>...</td>\n",
       "      <td>...</td>\n",
       "    </tr>\n",
       "    <tr>\n",
       "      <th>890</th>\n",
       "      <td>136A</td>\n",
       "      <td>173.99</td>\n",
       "      <td>165.10</td>\n",
       "      <td>M</td>\n",
       "      <td>182.880</td>\n",
       "      <td>8</td>\n",
       "    </tr>\n",
       "    <tr>\n",
       "      <th>891</th>\n",
       "      <td>136A</td>\n",
       "      <td>173.99</td>\n",
       "      <td>165.10</td>\n",
       "      <td>M</td>\n",
       "      <td>179.070</td>\n",
       "      <td>8</td>\n",
       "    </tr>\n",
       "    <tr>\n",
       "      <th>892</th>\n",
       "      <td>136A</td>\n",
       "      <td>173.99</td>\n",
       "      <td>165.10</td>\n",
       "      <td>M</td>\n",
       "      <td>174.498</td>\n",
       "      <td>8</td>\n",
       "    </tr>\n",
       "    <tr>\n",
       "      <th>893</th>\n",
       "      <td>136A</td>\n",
       "      <td>173.99</td>\n",
       "      <td>165.10</td>\n",
       "      <td>M</td>\n",
       "      <td>173.990</td>\n",
       "      <td>8</td>\n",
       "    </tr>\n",
       "    <tr>\n",
       "      <th>894</th>\n",
       "      <td>136A</td>\n",
       "      <td>173.99</td>\n",
       "      <td>165.10</td>\n",
       "      <td>M</td>\n",
       "      <td>171.958</td>\n",
       "      <td>8</td>\n",
       "    </tr>\n",
       "  </tbody>\n",
       "</table>\n",
       "<p>465 rows × 6 columns</p>\n",
       "</div>"
      ],
      "text/plain": [
       "    Family  Father  Mother Gender   Height  Kids\n",
       "0        1  199.39  170.18      M  185.928     4\n",
       "4        2  191.77  168.91      M  186.690     4\n",
       "5        2  191.77  168.91      M  184.150     4\n",
       "8        3  190.50  162.56      M  180.340     2\n",
       "10       4  190.50  162.56      M  179.070     5\n",
       "..     ...     ...     ...    ...      ...   ...\n",
       "890   136A  173.99  165.10      M  182.880     8\n",
       "891   136A  173.99  165.10      M  179.070     8\n",
       "892   136A  173.99  165.10      M  174.498     8\n",
       "893   136A  173.99  165.10      M  173.990     8\n",
       "894   136A  173.99  165.10      M  171.958     8\n",
       "\n",
       "[465 rows x 6 columns]"
      ]
     },
     "execution_count": 4,
     "metadata": {},
     "output_type": "execute_result"
    }
   ],
   "source": [
    "df=df[df['Gender']=='M']\n",
    "df"
   ]
  },
  {
   "cell_type": "markdown",
   "metadata": {},
   "source": [
    "#### Combien de données manquantes y-t-il dans cette base de données ? Enlever si besoin les lignes ayant des données manquantes."
   ]
  },
  {
   "cell_type": "code",
   "execution_count": 5,
   "metadata": {},
   "outputs": [
    {
     "data": {
      "text/html": [
       "<div>\n",
       "<style scoped>\n",
       "    .dataframe tbody tr th:only-of-type {\n",
       "        vertical-align: middle;\n",
       "    }\n",
       "\n",
       "    .dataframe tbody tr th {\n",
       "        vertical-align: top;\n",
       "    }\n",
       "\n",
       "    .dataframe thead th {\n",
       "        text-align: right;\n",
       "    }\n",
       "</style>\n",
       "<table border=\"1\" class=\"dataframe\">\n",
       "  <thead>\n",
       "    <tr style=\"text-align: right;\">\n",
       "      <th></th>\n",
       "      <th>Family</th>\n",
       "      <th>Father</th>\n",
       "      <th>Mother</th>\n",
       "      <th>Gender</th>\n",
       "      <th>Height</th>\n",
       "      <th>Kids</th>\n",
       "    </tr>\n",
       "  </thead>\n",
       "  <tbody>\n",
       "    <tr>\n",
       "      <th>0</th>\n",
       "      <td>1</td>\n",
       "      <td>199.39</td>\n",
       "      <td>170.18</td>\n",
       "      <td>M</td>\n",
       "      <td>185.928</td>\n",
       "      <td>4</td>\n",
       "    </tr>\n",
       "    <tr>\n",
       "      <th>4</th>\n",
       "      <td>2</td>\n",
       "      <td>191.77</td>\n",
       "      <td>168.91</td>\n",
       "      <td>M</td>\n",
       "      <td>186.690</td>\n",
       "      <td>4</td>\n",
       "    </tr>\n",
       "    <tr>\n",
       "      <th>5</th>\n",
       "      <td>2</td>\n",
       "      <td>191.77</td>\n",
       "      <td>168.91</td>\n",
       "      <td>M</td>\n",
       "      <td>184.150</td>\n",
       "      <td>4</td>\n",
       "    </tr>\n",
       "    <tr>\n",
       "      <th>8</th>\n",
       "      <td>3</td>\n",
       "      <td>190.50</td>\n",
       "      <td>162.56</td>\n",
       "      <td>M</td>\n",
       "      <td>180.340</td>\n",
       "      <td>2</td>\n",
       "    </tr>\n",
       "    <tr>\n",
       "      <th>10</th>\n",
       "      <td>4</td>\n",
       "      <td>190.50</td>\n",
       "      <td>162.56</td>\n",
       "      <td>M</td>\n",
       "      <td>179.070</td>\n",
       "      <td>5</td>\n",
       "    </tr>\n",
       "    <tr>\n",
       "      <th>...</th>\n",
       "      <td>...</td>\n",
       "      <td>...</td>\n",
       "      <td>...</td>\n",
       "      <td>...</td>\n",
       "      <td>...</td>\n",
       "      <td>...</td>\n",
       "    </tr>\n",
       "    <tr>\n",
       "      <th>890</th>\n",
       "      <td>136A</td>\n",
       "      <td>173.99</td>\n",
       "      <td>165.10</td>\n",
       "      <td>M</td>\n",
       "      <td>182.880</td>\n",
       "      <td>8</td>\n",
       "    </tr>\n",
       "    <tr>\n",
       "      <th>891</th>\n",
       "      <td>136A</td>\n",
       "      <td>173.99</td>\n",
       "      <td>165.10</td>\n",
       "      <td>M</td>\n",
       "      <td>179.070</td>\n",
       "      <td>8</td>\n",
       "    </tr>\n",
       "    <tr>\n",
       "      <th>892</th>\n",
       "      <td>136A</td>\n",
       "      <td>173.99</td>\n",
       "      <td>165.10</td>\n",
       "      <td>M</td>\n",
       "      <td>174.498</td>\n",
       "      <td>8</td>\n",
       "    </tr>\n",
       "    <tr>\n",
       "      <th>893</th>\n",
       "      <td>136A</td>\n",
       "      <td>173.99</td>\n",
       "      <td>165.10</td>\n",
       "      <td>M</td>\n",
       "      <td>173.990</td>\n",
       "      <td>8</td>\n",
       "    </tr>\n",
       "    <tr>\n",
       "      <th>894</th>\n",
       "      <td>136A</td>\n",
       "      <td>173.99</td>\n",
       "      <td>165.10</td>\n",
       "      <td>M</td>\n",
       "      <td>171.958</td>\n",
       "      <td>8</td>\n",
       "    </tr>\n",
       "  </tbody>\n",
       "</table>\n",
       "<p>465 rows × 6 columns</p>\n",
       "</div>"
      ],
      "text/plain": [
       "    Family  Father  Mother Gender   Height  Kids\n",
       "0        1  199.39  170.18      M  185.928     4\n",
       "4        2  191.77  168.91      M  186.690     4\n",
       "5        2  191.77  168.91      M  184.150     4\n",
       "8        3  190.50  162.56      M  180.340     2\n",
       "10       4  190.50  162.56      M  179.070     5\n",
       "..     ...     ...     ...    ...      ...   ...\n",
       "890   136A  173.99  165.10      M  182.880     8\n",
       "891   136A  173.99  165.10      M  179.070     8\n",
       "892   136A  173.99  165.10      M  174.498     8\n",
       "893   136A  173.99  165.10      M  173.990     8\n",
       "894   136A  173.99  165.10      M  171.958     8\n",
       "\n",
       "[465 rows x 6 columns]"
      ]
     },
     "execution_count": 5,
     "metadata": {},
     "output_type": "execute_result"
    }
   ],
   "source": [
    "df.dropna(axis=0)"
   ]
  },
  {
   "cell_type": "markdown",
   "metadata": {},
   "source": [
    "#### Analysons la taille des mères et des pères \n",
    "\n",
    "Créer un DataFrame \"peres\" en partant du df initial et en ne conservant que les lignes où il n y a pas de lignes dupliquées sur les champs (Family,Father)."
   ]
  },
  {
   "cell_type": "code",
   "execution_count": 57,
   "metadata": {
    "scrolled": true
   },
   "outputs": [
    {
     "data": {
      "text/html": [
       "<div>\n",
       "<style scoped>\n",
       "    .dataframe tbody tr th:only-of-type {\n",
       "        vertical-align: middle;\n",
       "    }\n",
       "\n",
       "    .dataframe tbody tr th {\n",
       "        vertical-align: top;\n",
       "    }\n",
       "\n",
       "    .dataframe thead th {\n",
       "        text-align: right;\n",
       "    }\n",
       "</style>\n",
       "<table border=\"1\" class=\"dataframe\">\n",
       "  <thead>\n",
       "    <tr style=\"text-align: right;\">\n",
       "      <th></th>\n",
       "      <th>Father</th>\n",
       "      <th>Family</th>\n",
       "    </tr>\n",
       "  </thead>\n",
       "  <tbody>\n",
       "    <tr>\n",
       "      <th>0</th>\n",
       "      <td>199.39</td>\n",
       "      <td>1</td>\n",
       "    </tr>\n",
       "    <tr>\n",
       "      <th>4</th>\n",
       "      <td>191.77</td>\n",
       "      <td>2</td>\n",
       "    </tr>\n",
       "    <tr>\n",
       "      <th>5</th>\n",
       "      <td>191.77</td>\n",
       "      <td>2</td>\n",
       "    </tr>\n",
       "    <tr>\n",
       "      <th>8</th>\n",
       "      <td>190.50</td>\n",
       "      <td>3</td>\n",
       "    </tr>\n",
       "    <tr>\n",
       "      <th>10</th>\n",
       "      <td>190.50</td>\n",
       "      <td>4</td>\n",
       "    </tr>\n",
       "    <tr>\n",
       "      <th>...</th>\n",
       "      <td>...</td>\n",
       "      <td>...</td>\n",
       "    </tr>\n",
       "    <tr>\n",
       "      <th>890</th>\n",
       "      <td>173.99</td>\n",
       "      <td>136A</td>\n",
       "    </tr>\n",
       "    <tr>\n",
       "      <th>891</th>\n",
       "      <td>173.99</td>\n",
       "      <td>136A</td>\n",
       "    </tr>\n",
       "    <tr>\n",
       "      <th>892</th>\n",
       "      <td>173.99</td>\n",
       "      <td>136A</td>\n",
       "    </tr>\n",
       "    <tr>\n",
       "      <th>893</th>\n",
       "      <td>173.99</td>\n",
       "      <td>136A</td>\n",
       "    </tr>\n",
       "    <tr>\n",
       "      <th>894</th>\n",
       "      <td>173.99</td>\n",
       "      <td>136A</td>\n",
       "    </tr>\n",
       "  </tbody>\n",
       "</table>\n",
       "<p>465 rows × 2 columns</p>\n",
       "</div>"
      ],
      "text/plain": [
       "     Father Family\n",
       "0    199.39      1\n",
       "4    191.77      2\n",
       "5    191.77      2\n",
       "8    190.50      3\n",
       "10   190.50      4\n",
       "..      ...    ...\n",
       "890  173.99   136A\n",
       "891  173.99   136A\n",
       "892  173.99   136A\n",
       "893  173.99   136A\n",
       "894  173.99   136A\n",
       "\n",
       "[465 rows x 2 columns]"
      ]
     },
     "execution_count": 57,
     "metadata": {},
     "output_type": "execute_result"
    }
   ],
   "source": [
    "peres=df[['Father','Family']]\n",
    "peres"
   ]
  },
  {
   "cell_type": "code",
   "execution_count": 61,
   "metadata": {},
   "outputs": [
    {
     "name": "stderr",
     "output_type": "stream",
     "text": [
      "<ipython-input-61-798cd868f939>:1: SettingWithCopyWarning: \n",
      "A value is trying to be set on a copy of a slice from a DataFrame\n",
      "\n",
      "See the caveats in the documentation: https://pandas.pydata.org/pandas-docs/stable/user_guide/indexing.html#returning-a-view-versus-a-copy\n",
      "  peres.drop_duplicates(['Family','Father'],inplace=True)\n"
     ]
    },
    {
     "data": {
      "text/html": [
       "<div>\n",
       "<style scoped>\n",
       "    .dataframe tbody tr th:only-of-type {\n",
       "        vertical-align: middle;\n",
       "    }\n",
       "\n",
       "    .dataframe tbody tr th {\n",
       "        vertical-align: top;\n",
       "    }\n",
       "\n",
       "    .dataframe thead th {\n",
       "        text-align: right;\n",
       "    }\n",
       "</style>\n",
       "<table border=\"1\" class=\"dataframe\">\n",
       "  <thead>\n",
       "    <tr style=\"text-align: right;\">\n",
       "      <th></th>\n",
       "      <th>Father</th>\n",
       "      <th>Family</th>\n",
       "    </tr>\n",
       "  </thead>\n",
       "  <tbody>\n",
       "    <tr>\n",
       "      <th>0</th>\n",
       "      <td>199.39</td>\n",
       "      <td>1</td>\n",
       "    </tr>\n",
       "    <tr>\n",
       "      <th>4</th>\n",
       "      <td>191.77</td>\n",
       "      <td>2</td>\n",
       "    </tr>\n",
       "    <tr>\n",
       "      <th>8</th>\n",
       "      <td>190.50</td>\n",
       "      <td>3</td>\n",
       "    </tr>\n",
       "    <tr>\n",
       "      <th>10</th>\n",
       "      <td>190.50</td>\n",
       "      <td>4</td>\n",
       "    </tr>\n",
       "    <tr>\n",
       "      <th>15</th>\n",
       "      <td>190.50</td>\n",
       "      <td>5</td>\n",
       "    </tr>\n",
       "    <tr>\n",
       "      <th>...</th>\n",
       "      <td>...</td>\n",
       "      <td>...</td>\n",
       "    </tr>\n",
       "    <tr>\n",
       "      <th>882</th>\n",
       "      <td>162.56</td>\n",
       "      <td>200</td>\n",
       "    </tr>\n",
       "    <tr>\n",
       "      <th>883</th>\n",
       "      <td>162.56</td>\n",
       "      <td>201</td>\n",
       "    </tr>\n",
       "    <tr>\n",
       "      <th>885</th>\n",
       "      <td>157.48</td>\n",
       "      <td>203</td>\n",
       "    </tr>\n",
       "    <tr>\n",
       "      <th>888</th>\n",
       "      <td>158.75</td>\n",
       "      <td>204</td>\n",
       "    </tr>\n",
       "    <tr>\n",
       "      <th>890</th>\n",
       "      <td>173.99</td>\n",
       "      <td>136A</td>\n",
       "    </tr>\n",
       "  </tbody>\n",
       "</table>\n",
       "<p>173 rows × 2 columns</p>\n",
       "</div>"
      ],
      "text/plain": [
       "     Father Family\n",
       "0    199.39      1\n",
       "4    191.77      2\n",
       "8    190.50      3\n",
       "10   190.50      4\n",
       "15   190.50      5\n",
       "..      ...    ...\n",
       "882  162.56    200\n",
       "883  162.56    201\n",
       "885  157.48    203\n",
       "888  158.75    204\n",
       "890  173.99   136A\n",
       "\n",
       "[173 rows x 2 columns]"
      ]
     },
     "execution_count": 61,
     "metadata": {},
     "output_type": "execute_result"
    }
   ],
   "source": [
    "peres.drop_duplicates(['Family','Father'],inplace=True)\n",
    "peres"
   ]
  },
  {
   "cell_type": "markdown",
   "metadata": {},
   "source": [
    "Créer un DataFrame \"meres\" de la meme façon."
   ]
  },
  {
   "cell_type": "code",
   "execution_count": 59,
   "metadata": {
    "scrolled": true
   },
   "outputs": [
    {
     "data": {
      "text/html": [
       "<div>\n",
       "<style scoped>\n",
       "    .dataframe tbody tr th:only-of-type {\n",
       "        vertical-align: middle;\n",
       "    }\n",
       "\n",
       "    .dataframe tbody tr th {\n",
       "        vertical-align: top;\n",
       "    }\n",
       "\n",
       "    .dataframe thead th {\n",
       "        text-align: right;\n",
       "    }\n",
       "</style>\n",
       "<table border=\"1\" class=\"dataframe\">\n",
       "  <thead>\n",
       "    <tr style=\"text-align: right;\">\n",
       "      <th></th>\n",
       "      <th>Mother</th>\n",
       "      <th>Family</th>\n",
       "    </tr>\n",
       "  </thead>\n",
       "  <tbody>\n",
       "    <tr>\n",
       "      <th>0</th>\n",
       "      <td>170.18</td>\n",
       "      <td>1</td>\n",
       "    </tr>\n",
       "    <tr>\n",
       "      <th>4</th>\n",
       "      <td>168.91</td>\n",
       "      <td>2</td>\n",
       "    </tr>\n",
       "    <tr>\n",
       "      <th>5</th>\n",
       "      <td>168.91</td>\n",
       "      <td>2</td>\n",
       "    </tr>\n",
       "    <tr>\n",
       "      <th>8</th>\n",
       "      <td>162.56</td>\n",
       "      <td>3</td>\n",
       "    </tr>\n",
       "    <tr>\n",
       "      <th>10</th>\n",
       "      <td>162.56</td>\n",
       "      <td>4</td>\n",
       "    </tr>\n",
       "    <tr>\n",
       "      <th>...</th>\n",
       "      <td>...</td>\n",
       "      <td>...</td>\n",
       "    </tr>\n",
       "    <tr>\n",
       "      <th>890</th>\n",
       "      <td>165.10</td>\n",
       "      <td>136A</td>\n",
       "    </tr>\n",
       "    <tr>\n",
       "      <th>891</th>\n",
       "      <td>165.10</td>\n",
       "      <td>136A</td>\n",
       "    </tr>\n",
       "    <tr>\n",
       "      <th>892</th>\n",
       "      <td>165.10</td>\n",
       "      <td>136A</td>\n",
       "    </tr>\n",
       "    <tr>\n",
       "      <th>893</th>\n",
       "      <td>165.10</td>\n",
       "      <td>136A</td>\n",
       "    </tr>\n",
       "    <tr>\n",
       "      <th>894</th>\n",
       "      <td>165.10</td>\n",
       "      <td>136A</td>\n",
       "    </tr>\n",
       "  </tbody>\n",
       "</table>\n",
       "<p>465 rows × 2 columns</p>\n",
       "</div>"
      ],
      "text/plain": [
       "     Mother Family\n",
       "0    170.18      1\n",
       "4    168.91      2\n",
       "5    168.91      2\n",
       "8    162.56      3\n",
       "10   162.56      4\n",
       "..      ...    ...\n",
       "890  165.10   136A\n",
       "891  165.10   136A\n",
       "892  165.10   136A\n",
       "893  165.10   136A\n",
       "894  165.10   136A\n",
       "\n",
       "[465 rows x 2 columns]"
      ]
     },
     "execution_count": 59,
     "metadata": {},
     "output_type": "execute_result"
    }
   ],
   "source": [
    "meres=df[['Mother','Family']]\n",
    "meres"
   ]
  },
  {
   "cell_type": "code",
   "execution_count": 62,
   "metadata": {},
   "outputs": [
    {
     "data": {
      "text/plain": [
       "173"
      ]
     },
     "execution_count": 62,
     "metadata": {},
     "output_type": "execute_result"
    }
   ],
   "source": [
    "len(df['Family'].unique())"
   ]
  },
  {
   "cell_type": "markdown",
   "metadata": {},
   "source": [
    "### Rappel statistiques"
   ]
  },
  {
   "cell_type": "markdown",
   "metadata": {},
   "source": [
    "<img src=\"img/moyenne.png\" width=\"800\">"
   ]
  },
  {
   "cell_type": "markdown",
   "metadata": {},
   "source": [
    "<img src=\"img/mediane.png\" width=\"800\">"
   ]
  },
  {
   "cell_type": "markdown",
   "metadata": {},
   "source": [
    "Creer une fonction (med) qui calcule la mediane (d'une serie ou liste, ...) en reprenant la defnition ci dessus"
   ]
  },
  {
   "cell_type": "code",
   "execution_count": 78,
   "metadata": {
    "scrolled": true
   },
   "outputs": [
    {
     "data": {
      "text/plain": [
       "175.26"
      ]
     },
     "execution_count": 78,
     "metadata": {},
     "output_type": "execute_result"
    }
   ],
   "source": [
    "def med(dfn):\n",
    "    n=len(dfn)\n",
    "    dfn=sorted(dfn)\n",
    "    if n%2==0:\n",
    "        m=(dfn[int(n/2-1)]+dfn[int(n/2)])/2\n",
    "    else:\n",
    "        m=dfn[int((n+1)/2-1)] \n",
    "    return m       \n",
    "med(peres['Father'])"
   ]
  },
  {
   "cell_type": "markdown",
   "metadata": {},
   "source": [
    "Trouver la taille moyenne de ces series de données (en utilisant pandas et numpy)"
   ]
  },
  {
   "cell_type": "code",
   "execution_count": 81,
   "metadata": {},
   "outputs": [
    {
     "name": "stdout",
     "output_type": "stream",
     "text": [
      "#######################  Moyenne peres et meres ##########################\n",
      "Peres  Pandas 175.49050867052023 // Numpy : 175.49050867052023\n",
      "Meres  Pandas 162.57310967741935 // Numpy : 162.57310967741935\n"
     ]
    }
   ],
   "source": [
    "print('#######################  Moyenne peres et meres ##########################')\n",
    "\n",
    "print('Peres  Pandas',peres['Father'].mean(),'// Numpy :',np.mean(peres['Father']))\n",
    "\n",
    "print('Meres  Pandas',meres['Mother'].mean(),'// Numpy :',np.mean(meres['Mother']))"
   ]
  },
  {
   "cell_type": "markdown",
   "metadata": {},
   "source": [
    "Trouver la taille mediane de ces series de données (avec pandas et numpy)"
   ]
  },
  {
   "cell_type": "code",
   "execution_count": 80,
   "metadata": {},
   "outputs": [
    {
     "name": "stdout",
     "output_type": "stream",
     "text": [
      "#######################  Mediane peres et meres  ##########################\n",
      "Peres  Pandas 175.26 // Numpy : 175.26\n",
      "Meres  Pandas 162.56 // Numpy : 162.56\n"
     ]
    }
   ],
   "source": [
    "print('#######################  Mediane peres et meres  ##########################')\n",
    "\n",
    "print('Peres  Pandas',peres['Father'].median(),'// Numpy :',np.median(peres['Father']))\n",
    "\n",
    "print('Meres  Pandas',meres['Mother'].median(),'// Numpy :',np.median(meres['Mother']))"
   ]
  },
  {
   "cell_type": "markdown",
   "metadata": {},
   "source": [
    "<img src=\"img/Moyenne vs mediane.png\" width=\"800\">"
   ]
  },
  {
   "cell_type": "markdown",
   "metadata": {},
   "source": [
    "Calculer les ecarts types de chacune de ces series (np.std) où np =alias(numpy)"
   ]
  },
  {
   "cell_type": "code",
   "execution_count": 14,
   "metadata": {},
   "outputs": [
    {
     "data": {
      "text/plain": [
       "(6.44008221110282, 6.0290080644140644)"
      ]
     },
     "execution_count": 14,
     "metadata": {},
     "output_type": "execute_result"
    }
   ],
   "source": []
  },
  {
   "cell_type": "markdown",
   "metadata": {},
   "source": [
    "<img src=\"img/Dispersion_variance_ecart_type.png\" width=\"800\">"
   ]
  },
  {
   "cell_type": "markdown",
   "metadata": {},
   "source": [
    "#### Afficher sur un même graphe un estimateur de la densité de la population des pères et de celles des mère.\n",
    "\n",
    "utilisez pour cela, kdeplot un estimateur de densité de la librairie seaborn"
   ]
  },
  {
   "cell_type": "code",
   "execution_count": 85,
   "metadata": {
    "scrolled": true
   },
   "outputs": [
    {
     "name": "stderr",
     "output_type": "stream",
     "text": [
      "C:\\Users\\Ali DOUCOURE\\anaconda3\\envs\\intro-conda\\lib\\site-packages\\seaborn\\distributions.py:1657: FutureWarning: The `bw` parameter is deprecated in favor of `bw_method` and `bw_adjust`. Using 0.5 for `bw_method`, but please see the docs for the new parameters and update your code.\n",
      "  warnings.warn(msg, FutureWarning)\n",
      "C:\\Users\\Ali DOUCOURE\\anaconda3\\envs\\intro-conda\\lib\\site-packages\\seaborn\\distributions.py:1657: FutureWarning: The `bw` parameter is deprecated in favor of `bw_method` and `bw_adjust`. Using 0.5 for `bw_method`, but please see the docs for the new parameters and update your code.\n",
      "  warnings.warn(msg, FutureWarning)\n"
     ]
    },
    {
     "data": {
      "image/png": "[encoded data removed]",
      "text/plain": [
       "<Figure size 432x288 with 1 Axes>"
      ]
     },
     "metadata": {},
     "output_type": "display_data"
    }
   ],
   "source": [
    "import numpy as np\n",
    "import seaborn as sns\n",
    "sns.set_style('whitegrid')\n",
    "sns.kdeplot(peres['Father'], bw=0.5)\n",
    "sns.kdeplot(meres['Mother'], bw=0.5)\n",
    "plt.show();"
   ]
  },
  {
   "cell_type": "markdown",
   "metadata": {},
   "source": [
    "#### En reprenant le resultat des indicateurs precedemment calculés, expliquez  :\n",
    "- Sommets des \"clochees\" (la postion (l'abscisse))\n",
    "- L'\"écartement\" des cloches "
   ]
  },
  {
   "cell_type": "code",
   "execution_count": null,
   "metadata": {},
   "outputs": [],
   "source": []
  },
  {
   "cell_type": "markdown",
   "metadata": {},
   "source": [
    "#### La dataviz nous permet également d'estimer un \"taux de dispersion\" \n",
    "\n",
    "La boite à moustache / box plot, permet de representer la distribution de la serie en enlevant les observations \n",
    "extremes (les plus faibles ou plus elevees), en moyene 1% des données.\n",
    "\n",
    "Ci dessous cette representation en reprenant nos celle des peres"
   ]
  },
  {
   "cell_type": "code",
   "execution_count": 17,
   "metadata": {
    "scrolled": true
   },
   "outputs": [
    {
     "data": {
      "image/png": "[encoded data removed]",
      "text/plain": [
       "<Figure size 432x288 with 1 Axes>"
      ]
     },
     "metadata": {},
     "output_type": "display_data"
    }
   ],
   "source": [
    "sns.set_style('whitegrid')\n",
    "sns.boxplot( y = df['Father'],color=\".5\")\n",
    "plt.show()"
   ]
  },
  {
   "cell_type": "markdown",
   "metadata": {},
   "source": [
    "- La mediane est representée au centre de la box\n",
    "- Le quartile inferieure est \"inferieur\" à 173 cm\n",
    "- Le quartile superieur est \"superieur\" à 179 cm\n",
    "- Dans cette boite il y a 50% des observations, elle \"mesure\" environ 6 cm\n",
    "- Deux traits parralleles limitent cette figure (189 cm et 165 cm)\n",
    "\n",
    "==> ils marquent les limites des observations utilisées pour le calcul des metrics (mediane et quartile sont calculés sur cet echantillon de points). Au delà il s'agit d'éléments considérés comme \"outliers\"\n",
    "(On utilise 1.5*6=9 cm de limite haute et basse en partant des extremas de la box)\n",
    "\n",
    "Tracer la meme representation mais pour la taille des meres"
   ]
  },
  {
   "cell_type": "code",
   "execution_count": 20,
   "metadata": {},
   "outputs": [
    {
     "data": {
      "image/png": "[encoded data removed]",
      "text/plain": [
       "<Figure size 432x288 with 1 Axes>"
      ]
     },
     "metadata": {},
     "output_type": "display_data"
    }
   ],
   "source": []
  },
  {
   "cell_type": "markdown",
   "metadata": {},
   "source": [
    "Avec l'aide de la methode .hist() associé aux objets de type Series, tracez la distribution en coupant l'axe des abscisses en 10 intervalles de meme \"longueur\""
   ]
  },
  {
   "cell_type": "code",
   "execution_count": 22,
   "metadata": {
    "scrolled": true
   },
   "outputs": [
    {
     "data": {
      "image/png": "[encoded data removed]",
      "text/plain": [
       "<Figure size 432x288 with 1 Axes>"
      ]
     },
     "metadata": {},
     "output_type": "display_data"
    }
   ],
   "source": []
  },
  {
   "cell_type": "markdown",
   "metadata": {},
   "source": [
    "Utilisez le parametre \"bins\" de la methode .hist() pour tracez la distribution en coupant l'axe des abscisses en 4 intervalles de meme \"longueur\""
   ]
  },
  {
   "cell_type": "code",
   "execution_count": 24,
   "metadata": {},
   "outputs": [
    {
     "data": {
      "image/png": "[encoded data removed]",
      "text/plain": [
       "<Figure size 432x288 with 1 Axes>"
      ]
     },
     "metadata": {},
     "output_type": "display_data"
    }
   ],
   "source": []
  },
  {
   "cell_type": "markdown",
   "metadata": {},
   "source": [
    "#### Remarque: densité de la série\n",
    "\n",
    "La densité visualisée plus haut (*Afficher sur un même graphe un estimateur de la densité de la population des pères et de celles des mère\"*) correspond à un tracé (continu) interpolé des données (discretes). \n",
    "\n",
    "Utilisez la visualisation seaborn .distplot() pour observer ces deux tracés."
   ]
  },
  {
   "cell_type": "code",
   "execution_count": 25,
   "metadata": {},
   "outputs": [
    {
     "name": "stderr",
     "output_type": "stream",
     "text": [
      "/home/david/anaconda3/envs/dev/lib/python3.7/site-packages/seaborn/distributions.py:2551: FutureWarning: `distplot` is a deprecated function and will be removed in a future version. Please adapt your code to use either `displot` (a figure-level function with similar flexibility) or `histplot` (an axes-level function for histograms).\n",
      "  warnings.warn(msg, FutureWarning)\n"
     ]
    },
    {
     "data": {
      "image/png": "[encoded data removed]",
      "text/plain": [
       "<Figure size 432x288 with 1 Axes>"
      ]
     },
     "metadata": {},
     "output_type": "display_data"
    }
   ],
   "source": []
  },
  {
   "cell_type": "markdown",
   "metadata": {},
   "source": [
    "#### Maintenant nous allons tracer une droite (créer un estimateur) interpolant la taille des enfants en fonction des variables explicatives (taille du pere et de la mere)"
   ]
  },
  {
   "cell_type": "markdown",
   "metadata": {},
   "source": [
    "Pour comprendre sur ce jeu de données les correlations (dépendances ?) entre les colonnes (features), nous allons creer une matrice de correlation.\n",
    "\n",
    "La corelation entre deux vecteurs/series permet d'identifier une dependance entre eux. Cette valeur, généralement [0,1] vaut 1 pour une dependace et 0 pour une independance. Cependant, les resultats sont le plus souvent des nombres decimaux situés dans cette intervalle.\n",
    "\n",
    "\n",
    "#### Pearson correlation coefficient\n",
    "\n",
    "Forme générale : \n",
    "<img src=\"img/f76ccfa7c2ed7f5b085115086107bbe25d329cec.svg\" width=\"200\">\n",
    "\n",
    "Forme discrete :\n",
    "<img src=\"img/2b9c2079a3ffc1aacd36201ea0a3fb2460dc226f.svg\" width=\"250\">\n",
    "\n",
    "\n",
    "\n",
    "Elle nous donne une information sur le rapprochement de deux features (les vecteurs que nous avons analysés)"
   ]
  },
  {
   "cell_type": "markdown",
   "metadata": {},
   "source": [
    "Tracez une representation similaire."
   ]
  },
  {
   "cell_type": "code",
   "execution_count": 27,
   "metadata": {},
   "outputs": [
    {
     "data": {
      "text/plain": [
       "<AxesSubplot:>"
      ]
     },
     "execution_count": 27,
     "metadata": {},
     "output_type": "execute_result"
    },
    {
     "data": {
      "image/png": "[encoded data removed]",
      "text/plain": [
       "<Figure size 720x576 with 2 Axes>"
      ]
     },
     "metadata": {},
     "output_type": "display_data"
    }
   ],
   "source": [
    "plt.subplots(figsize=(10, 8))\n",
    "corr = df[['Father','Mother','Hkids']].corr()\n",
    "sns.heatmap(corr, \n",
    "            xticklabels=corr.columns.values,\n",
    "            yticklabels=corr.columns.values)"
   ]
  },
  {
   "cell_type": "markdown",
   "metadata": {},
   "source": [
    "Utilisez la methode pandas .corr() pour afficher la valeur des coefficients de correlation entre ces colonnes"
   ]
  },
  {
   "cell_type": "code",
   "execution_count": 28,
   "metadata": {},
   "outputs": [
    {
     "data": {
      "text/html": [
       "<div>\n",
       "<style scoped>\n",
       "    .dataframe tbody tr th:only-of-type {\n",
       "        vertical-align: middle;\n",
       "    }\n",
       "\n",
       "    .dataframe tbody tr th {\n",
       "        vertical-align: top;\n",
       "    }\n",
       "\n",
       "    .dataframe thead th {\n",
       "        text-align: right;\n",
       "    }\n",
       "</style>\n",
       "<table border=\"1\" class=\"dataframe\">\n",
       "  <thead>\n",
       "    <tr style=\"text-align: right;\">\n",
       "      <th></th>\n",
       "      <th>Father</th>\n",
       "      <th>Mother</th>\n",
       "      <th>Hkids</th>\n",
       "    </tr>\n",
       "  </thead>\n",
       "  <tbody>\n",
       "    <tr>\n",
       "      <th>Father</th>\n",
       "      <td>1e+00</td>\n",
       "      <td>1e-01</td>\n",
       "      <td>4e-01</td>\n",
       "    </tr>\n",
       "    <tr>\n",
       "      <th>Mother</th>\n",
       "      <td>1e-01</td>\n",
       "      <td>1e+00</td>\n",
       "      <td>3e-01</td>\n",
       "    </tr>\n",
       "    <tr>\n",
       "      <th>Hkids</th>\n",
       "      <td>4e-01</td>\n",
       "      <td>3e-01</td>\n",
       "      <td>1e+00</td>\n",
       "    </tr>\n",
       "  </tbody>\n",
       "</table>\n",
       "</div>"
      ],
      "text/plain": [
       "        Father  Mother  Hkids\n",
       "Father   1e+00   1e-01  4e-01\n",
       "Mother   1e-01   1e+00  3e-01\n",
       "Hkids    4e-01   3e-01  1e+00"
      ]
     },
     "execution_count": 28,
     "metadata": {},
     "output_type": "execute_result"
    }
   ],
   "source": []
  },
  {
   "cell_type": "markdown",
   "metadata": {},
   "source": [
    "Quelles informations (relations entre features) pourriez vous tirer de cette representation ?"
   ]
  },
  {
   "cell_type": "code",
   "execution_count": null,
   "metadata": {},
   "outputs": [],
   "source": []
  },
  {
   "cell_type": "markdown",
   "metadata": {},
   "source": [
    "Verifier cela en traçant l'évolution de la taille des enfants en fonction de la mere, puis du pere\n",
    "\n",
    "nb: Tracer la droite d'equation y=x sur cette representation de pount pour evaluer le potentiel de cette regression :)"
   ]
  },
  {
   "cell_type": "code",
   "execution_count": 29,
   "metadata": {},
   "outputs": [
    {
     "data": {
      "image/png": "[encoded data removed]",
      "text/plain": [
       "<Figure size 1008x720 with 1 Axes>"
      ]
     },
     "metadata": {},
     "output_type": "display_data"
    }
   ],
   "source": [
    "fig = plt.figure(figsize=(14,10))\n",
    "plt.plot(df['Father'],df['Hkids'],'+',c='blue',label='observations (taille du pere, taille du garçon)')\n",
    "\n",
    "\n",
    "plt.xlabel('Father heught (cm)', fontsize=14)\n",
    "plt.ylabel('Kids height (cm)', fontsize=14)\n",
    "plt.legend()\n",
    "plt.show()"
   ]
  },
  {
   "cell_type": "code",
   "execution_count": 30,
   "metadata": {
    "scrolled": true
   },
   "outputs": [
    {
     "data": {
      "image/png": "[encoded data removed]",
      "text/plain": [
       "<Figure size 1008x720 with 1 Axes>"
      ]
     },
     "metadata": {},
     "output_type": "display_data"
    }
   ],
   "source": [
    "fig = plt.figure(figsize=(14,10))\n",
    "plt.plot(df['Mother'],df['Hkids'],'+',c='red',label='observations (taille de la mere, taille du garçon)')\n",
    "\n",
    "\n",
    "plt.xlabel('Mother heught (cm)', fontsize=14)\n",
    "plt.ylabel('Kids height (cm)', fontsize=14)\n",
    "plt.legend()\n",
    "plt.show()"
   ]
  },
  {
   "cell_type": "markdown",
   "metadata": {},
   "source": [
    "Il y a, comment dire, un sacré \"biais\" entre l'évolution f(taille de la mere)=taille du garçon et la droite y=x"
   ]
  },
  {
   "cell_type": "markdown",
   "metadata": {},
   "source": [
    "En ajoutant une droite d'equation y=x sur les precedents schéma, nous remarquons que nous pourrions construire une droite y=ax+b.\n",
    "\n",
    "a : Le coefficient directeur deviendrait un coef de corrélation de la taille d'un des parents sur celle de leurs enfants\n",
    "\n",
    "b: l'ordonnée à l'origine deviendrait un biais que nous modifierons pour recentrer les valeurs ainsi prédites\n",
    "\n",
    "\n",
    "L'objectif étant de trouver les coefficients de notre fonction capables de minimiser les ecarts entre la prediction (la droite) et l'observation (les points)\n",
    "\n",
    "\n",
    "Le modèle linéaire peut être estimé par la méthode des moindres carrés. Très populaire elle est très souvent présentée avec le modèle linéaire."
   ]
  },
  {
   "cell_type": "markdown",
   "metadata": {},
   "source": [
    "<img src=\"img/Estimateur_des_moindres_carres.png\" width=\"800\">"
   ]
  },
  {
   "cell_type": "markdown",
   "metadata": {},
   "source": [
    "Effectuer une régression linéaire au sens des moindres carrés, c'est trouver la droite qui minimise l'écart\n",
    "y-ŷ (cf schema), c'est-à-dire la somme des carrés des différences : on parle de droite des moindres carrés.\n",
    "\n",
    "<img src=\"img/reglin1.png\" width=\"200\">"
   ]
  },
  {
   "cell_type": "markdown",
   "metadata": {},
   "source": [
    "Mais pour l'instant, restons sur un exercice intuitif de creation de model.\n",
    "\n",
    "Ci dessous notre premier estimateur (y=ax+b) de la taille du garçon en fonction de la taille du pere"
   ]
  },
  {
   "cell_type": "code",
   "execution_count": 31,
   "metadata": {},
   "outputs": [
    {
     "data": {
      "text/plain": [
       "194.0"
      ]
     },
     "execution_count": 31,
     "metadata": {},
     "output_type": "execute_result"
    }
   ],
   "source": [
    "def pred_p(coef,hp,b):\n",
    "    return (coef*hp)+b\n",
    "\n",
    "# coeff de corelation \n",
    "coef=0.3\n",
    "taille_pere=180\n",
    "biais=140\n",
    "pred_p(coef,taille_pere,biais)"
   ]
  },
  {
   "cell_type": "markdown",
   "metadata": {},
   "source": [
    "D'apres les donnes nous pouvons trouver une mediane ou moyenne d'une catégorie d'enfant dont le pere mesure 180 cm."
   ]
  },
  {
   "cell_type": "code",
   "execution_count": 32,
   "metadata": {
    "scrolled": true
   },
   "outputs": [
    {
     "data": {
      "text/plain": [
       "Father\n",
       "157    163\n",
       "159    169\n",
       "163    173\n",
       "165    172\n",
       "166    173\n",
       "168    170\n",
       "169    171\n",
       "170    175\n",
       "171    176\n",
       "173    170\n",
       "173    173\n",
       "174    174\n",
       "174    176\n",
       "175    178\n",
       "176    176\n",
       "177    178\n",
       "178    178\n",
       "179    176\n",
       "179    177\n",
       "180    178\n",
       "182    179\n",
       "182    180\n",
       "183    180\n",
       "184    178\n",
       "185    185\n",
       "185    179\n",
       "188    187\n",
       "190    177\n",
       "192    185\n",
       "199    186\n",
       "Name: Hkids, dtype: float64"
      ]
     },
     "execution_count": 32,
     "metadata": {},
     "output_type": "execute_result"
    }
   ],
   "source": [
    "df.groupby([\"Father\"])['Hkids'].median()"
   ]
  },
  {
   "cell_type": "markdown",
   "metadata": {},
   "source": [
    "Ajustons le biais pour tendre vers cette valeur"
   ]
  },
  {
   "cell_type": "code",
   "execution_count": 33,
   "metadata": {},
   "outputs": [
    {
     "data": {
      "text/plain": [
       "178.0"
      ]
     },
     "execution_count": 33,
     "metadata": {},
     "output_type": "execute_result"
    }
   ],
   "source": [
    "# coeff de corelation \n",
    "coef=0.3\n",
    "taille_pere=180\n",
    "biais=124\n",
    "\n",
    "pred_p(coef,180,biais)"
   ]
  },
  {
   "cell_type": "markdown",
   "metadata": {},
   "source": [
    "Conservons les resultats de l'estimateur et representaons les resultats estimateurs et données reeles"
   ]
  },
  {
   "cell_type": "code",
   "execution_count": 37,
   "metadata": {},
   "outputs": [],
   "source": [
    "x=df.groupby([\"Father\"])['Hkids'].median().index\n",
    "est_p=[pred_p(coef,elem,biais) for elem in df.groupby([\"Father\"])['Hkids'].median().index]"
   ]
  },
  {
   "cell_type": "code",
   "execution_count": 38,
   "metadata": {},
   "outputs": [
    {
     "data": {
      "image/png": "[encoded data removed]",
      "text/plain": [
       "<Figure size 432x288 with 1 Axes>"
      ]
     },
     "metadata": {},
     "output_type": "display_data"
    }
   ],
   "source": [
    "fig = plt.figure()\n",
    "plt.plot(df['Father'],df['Hkids'],'+',c='blue',label='observations (taille duu pere, taille du garçon)')\n",
    "\n",
    "plt.plot(x,est_p,c='black',label='Notre estimateur')\n",
    "plt.xlabel('Father heught (cm)', fontsize=14)\n",
    "plt.ylabel('Kids height (cm)', fontsize=14)\n",
    "plt.legend()\n",
    "plt.show()"
   ]
  },
  {
   "cell_type": "markdown",
   "metadata": {},
   "source": [
    "#### Ameliorer notre predicteur en jouant sur le coefficient directeur et l'ordonnée à l'origine\n",
    "\n",
    "Et tracer cette nouvelle representation"
   ]
  },
  {
   "cell_type": "code",
   "execution_count": 39,
   "metadata": {},
   "outputs": [
    {
     "data": {
      "text/plain": [
       "177.8"
      ]
     },
     "execution_count": 39,
     "metadata": {},
     "output_type": "execute_result"
    }
   ],
   "source": []
  },
  {
   "cell_type": "code",
   "execution_count": 40,
   "metadata": {},
   "outputs": [
    {
     "data": {
      "image/png": "[encoded data removed]",
      "text/plain": [
       "<Figure size 432x288 with 1 Axes>"
      ]
     },
     "metadata": {},
     "output_type": "display_data"
    }
   ],
   "source": []
  },
  {
   "cell_type": "markdown",
   "metadata": {},
   "source": [
    "Pour évaluer l'ecart entre notre estimateur et les données, nous allons construire un outil qui permet de le quantifier.\n",
    "\n",
    "Le RMSE (Root Mean Squared Error) <=> La racine de la moyenne des erreurs au carré ..."
   ]
  },
  {
   "cell_type": "code",
   "execution_count": 41,
   "metadata": {},
   "outputs": [
    {
     "data": {
      "text/plain": [
       "2.674147025164081"
      ]
     },
     "execution_count": 41,
     "metadata": {},
     "output_type": "execute_result"
    }
   ],
   "source": [
    "import math\n",
    "\n",
    "math.sqrt(((df.groupby([\"Father\"])['Hkids'].mean().values-pd.Series(est_p))**2).mean())"
   ]
  },
  {
   "cell_type": "markdown",
   "metadata": {},
   "source": [
    "#### Nous aurions pu trouver directement les meilleurs coefficients pour notre estimateur\n",
    "\n",
    "Reprenons la methode des moindres carrés :\n",
    "\n",
    "Effectuer une régression linéaire au sens des moindres carrés, c'est trouver la droite qui minimise l'écart\n",
    "y-ŷ (cf schema), c'est-à-dire la somme des carrés des différences : on parle de droite des moindres carrés.\n",
    "\n",
    "<img src=\"img/reglin1.png\" width=\"300\">"
   ]
  },
  {
   "cell_type": "markdown",
   "metadata": {},
   "source": [
    "Il s'agit donc de minimiser J \n",
    "\n",
    "\n",
    "<img src=\"img/reglin3.png\" width=\"300\">"
   ]
  },
  {
   "cell_type": "markdown",
   "metadata": {},
   "source": [
    "Pouvez vous me trouver les meilleurs coefficients a et b, en continuant cet exercice de minimisation ? "
   ]
  },
  {
   "cell_type": "markdown",
   "metadata": {},
   "source": [
    "<img src=\"img/reglin4.png\" width=\"300\">"
   ]
  },
  {
   "cell_type": "markdown",
   "metadata": {},
   "source": [
    "Vous concluerez en calculant le RMSE sur ce nouvel estimateur."
   ]
  },
  {
   "cell_type": "markdown",
   "metadata": {},
   "source": [
    "#### Refaite le meme exercice pour trouver un estimateur de la taille d'un garçon connaissant la taille de sa mère.\n",
    "\n",
    "Vous concluerez en calculant le RMSE sur ce nouvel estimateur"
   ]
  },
  {
   "cell_type": "code",
   "execution_count": null,
   "metadata": {},
   "outputs": [],
   "source": []
  },
  {
   "cell_type": "markdown",
   "metadata": {},
   "source": [
    "#### La généralisation de ces calculs dans un espace à plusieurs dimensions (plusieurs variables, ...) , nous pousse à utiliser des concepts abstraits mais plus universels\n",
    "\n",
    "\n",
    "\n",
    "    1- Algèbre bilinéaire – Produit scalaire \n",
    "   \n",
    "\n",
    "    2- Algèbre bilinéaire – Espaces euclidiens \n",
    "  \n",
    "\n",
    "    3- Algèbre bilinéaire – Endomorphismes symétriques d’un espace euclidien, matrices symétrique \n",
    "   \n",
    "\n",
    "    4- Projection orthogonale \n",
    "\n",
    "\n",
    "    5- Réduction des endomorphismes et des matrices symétriques \n",
    "   \n",
    "    \n"
   ]
  },
  {
   "cell_type": "code",
   "execution_count": null,
   "metadata": {},
   "outputs": [],
   "source": []
  }
 ],
 "metadata": {
  "kernelspec": {
   "display_name": "Python 3",
   "language": "python",
   "name": "python3"
  },
  "language_info": {
   "codemirror_mode": {
    "name": "ipython",
    "version": 3
   },
   "file_extension": ".py",
   "mimetype": "text/x-python",
   "name": "python",
   "nbconvert_exporter": "python",
   "pygments_lexer": "ipython3",
   "version": "3.8.5"
  }
 },
 "nbformat": 4,
 "nbformat_minor": 2
}
